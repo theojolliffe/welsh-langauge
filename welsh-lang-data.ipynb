{
 "cells": [
  {
   "cell_type": "code",
   "execution_count": 1,
   "metadata": {},
   "outputs": [
    {
     "name": "stdout",
     "output_type": "stream",
     "text": [
      "Collecting translate-toolkit\n",
      "  Downloading translate-toolkit-3.6.0.tar.gz (6.2 MB)\n",
      "     |████████████████████████████████| 6.2 MB 1.5 MB/s            \n",
      "\u001b[?25h  Preparing metadata (setup.py) ... \u001b[?25ldone\n",
      "\u001b[?25hRequirement already satisfied: lxml>=4.6.3 in /Users/theojolliffe/spacyve/lib/python3.8/site-packages (from translate-toolkit) (4.6.5)\n",
      "Building wheels for collected packages: translate-toolkit\n",
      "  Building wheel for translate-toolkit (setup.py) ... \u001b[?25ldone\n",
      "\u001b[?25h  Created wheel for translate-toolkit: filename=translate_toolkit-3.6.0-py3-none-any.whl size=7296978 sha256=7aaccf2ce4b324ee453bd145c7d6dc6d4b00fedc9e30e0b98a91d62e908e1653\n",
      "  Stored in directory: /Users/theojolliffe/Library/Caches/pip/wheels/9e/4c/ac/fab3b5d84472636cadcbdf122ed49196bd2d3d7b1e010ec725\n",
      "Successfully built translate-toolkit\n",
      "Installing collected packages: translate-toolkit\n",
      "Successfully installed translate-toolkit-3.6.0\n",
      "\u001b[33mWARNING: You are using pip version 21.3.1; however, version 22.0.4 is available.\n",
      "You should consider upgrading via the '/Users/theojolliffe/spacyve/bin/python -m pip install --upgrade pip' command.\u001b[0m\n"
     ]
    }
   ],
   "source": [
    "!pip install translate-toolkit"
   ]
  },
  {
   "cell_type": "code",
   "execution_count": 2,
   "metadata": {},
   "outputs": [],
   "source": [
    "from translate.storage.tmx import tmxfile"
   ]
  },
  {
   "cell_type": "code",
   "execution_count": 4,
   "metadata": {},
   "outputs": [],
   "source": [
    "with open(\"/Users/theojolliffe/Downloads/IaithFywIaithByw.tmx\", 'rb') as fin:\n",
    "    tmx_file = tmxfile(fin, 'en', 'cy')"
   ]
  },
  {
   "cell_type": "code",
   "execution_count": 5,
   "metadata": {},
   "outputs": [
    {
     "data": {
      "text/plain": [
       "<translate.storage.tmx.tmxfile at 0x7fbf888b5e50>"
      ]
     },
     "execution_count": 5,
     "metadata": {},
     "output_type": "execute_result"
    }
   ],
   "source": [
    "tmx_file"
   ]
  },
  {
   "cell_type": "code",
   "execution_count": 93,
   "metadata": {},
   "outputs": [],
   "source": [
    "sou = []\n",
    "tar = []\n",
    "trans = []\n",
    "translation = {}"
   ]
  },
  {
   "cell_type": "code",
   "execution_count": 94,
   "metadata": {},
   "outputs": [],
   "source": [
    "translation['data'] = []"
   ]
  },
  {
   "cell_type": "code",
   "execution_count": null,
   "metadata": {},
   "outputs": [],
   "source": [
    "for node in tmx_file.unit_iter():\n",
    "    sou.append(node.source)\n",
    "    tar.append(node.target)\n",
    "\n",
    "    print(node.source, '***', node.target)"
   ]
  },
  {
   "cell_type": "code",
   "execution_count": 95,
   "metadata": {},
   "outputs": [],
   "source": [
    "for node in tmx_file.unit_iter():\n",
    "  translation['data'].append({\n",
    "    'translation': {'cy': node.target, 'en': node.source}\n",
    "    })\n"
   ]
  },
  {
   "cell_type": "code",
   "execution_count": 87,
   "metadata": {},
   "outputs": [],
   "source": [
    "import json"
   ]
  },
  {
   "cell_type": "code",
   "execution_count": 91,
   "metadata": {},
   "outputs": [],
   "source": [
    "# translation = {\n",
    "#     'train': translation,\n",
    "#     'test': translation,\n",
    "#     'validation': translation\n",
    "# }"
   ]
  },
  {
   "cell_type": "code",
   "execution_count": 96,
   "metadata": {},
   "outputs": [],
   "source": [
    "with open('welsh-trans.json', 'w') as outfile:\n",
    "    json.dump(translation, outfile)"
   ]
  },
  {
   "cell_type": "code",
   "execution_count": 8,
   "metadata": {},
   "outputs": [
    {
     "name": "stdout",
     "output_type": "stream",
     "text": [
      "Collecting translators\n",
      "  Downloading translators-5.0.2-py3-none-any.whl (23 kB)\n",
      "Collecting lxml>=4.8.0\n",
      "  Downloading lxml-4.8.0-cp38-cp38-macosx_10_14_x86_64.whl (4.5 MB)\n",
      "     |████████████████████████████████| 4.5 MB 4.4 MB/s            \n",
      "\u001b[?25hCollecting loguru>=0.6.0\n",
      "  Downloading loguru-0.6.0-py3-none-any.whl (58 kB)\n",
      "     |████████████████████████████████| 58 kB 3.0 MB/s            \n",
      "\u001b[?25hCollecting requests>=2.27.1\n",
      "  Downloading requests-2.27.1-py2.py3-none-any.whl (63 kB)\n",
      "     |████████████████████████████████| 63 kB 2.7 MB/s             \n",
      "\u001b[?25hCollecting PyExecJS>=1.5.1\n",
      "  Downloading PyExecJS-1.5.1.tar.gz (13 kB)\n",
      "  Preparing metadata (setup.py) ... \u001b[?25ldone\n",
      "\u001b[?25hCollecting pathos>=0.2.8\n",
      "  Downloading pathos-0.2.8-py2.py3-none-any.whl (81 kB)\n",
      "     |████████████████████████████████| 81 kB 3.9 MB/s            \n",
      "\u001b[?25hCollecting pox>=0.3.0\n",
      "  Downloading pox-0.3.0-py2.py3-none-any.whl (30 kB)\n",
      "Collecting dill>=0.3.4\n",
      "  Using cached dill-0.3.4-py2.py3-none-any.whl (86 kB)\n",
      "Collecting ppft>=1.6.6.4\n",
      "  Downloading ppft-1.6.6.4-py3-none-any.whl (65 kB)\n",
      "     |████████████████████████████████| 65 kB 3.6 MB/s            \n",
      "\u001b[?25hCollecting multiprocess>=0.70.12\n",
      "  Using cached multiprocess-0.70.12.2-py38-none-any.whl (128 kB)\n",
      "Requirement already satisfied: six>=1.10.0 in /Users/theojolliffe/spacyve/lib/python3.8/site-packages (from PyExecJS>=1.5.1->translators) (1.16.0)\n",
      "Requirement already satisfied: idna<4,>=2.5 in /Users/theojolliffe/spacyve/lib/python3.8/site-packages (from requests>=2.27.1->translators) (3.3)\n",
      "Requirement already satisfied: charset-normalizer~=2.0.0 in /Users/theojolliffe/spacyve/lib/python3.8/site-packages (from requests>=2.27.1->translators) (2.0.9)\n",
      "Requirement already satisfied: certifi>=2017.4.17 in /Users/theojolliffe/spacyve/lib/python3.8/site-packages (from requests>=2.27.1->translators) (2021.10.8)\n",
      "Requirement already satisfied: urllib3<1.27,>=1.21.1 in /Users/theojolliffe/spacyve/lib/python3.8/site-packages (from requests>=2.27.1->translators) (1.26.7)\n",
      "Building wheels for collected packages: PyExecJS\n",
      "  Building wheel for PyExecJS (setup.py) ... \u001b[?25ldone\n",
      "\u001b[?25h  Created wheel for PyExecJS: filename=PyExecJS-1.5.1-py3-none-any.whl size=14596 sha256=f60d4370a36f3b8a3a7a491485053f7d2fc928d2a20382605a2e728e37684baa\n",
      "  Stored in directory: /Users/theojolliffe/Library/Caches/pip/wheels/db/3c/3d/7e9aca234caf6602ae4a4c7b367b3afc03519e791b998a94e4\n",
      "Successfully built PyExecJS\n",
      "Installing collected packages: dill, ppft, pox, multiprocess, requests, PyExecJS, pathos, lxml, loguru, translators\n",
      "  Attempting uninstall: requests\n",
      "    Found existing installation: requests 2.26.0\n",
      "    Uninstalling requests-2.26.0:\n",
      "      Successfully uninstalled requests-2.26.0\n",
      "  Attempting uninstall: lxml\n",
      "    Found existing installation: lxml 4.6.5\n",
      "    Uninstalling lxml-4.6.5:\n",
      "      Successfully uninstalled lxml-4.6.5\n",
      "Successfully installed PyExecJS-1.5.1 dill-0.3.4 loguru-0.6.0 lxml-4.8.0 multiprocess-0.70.12.2 pathos-0.2.8 pox-0.3.0 ppft-1.6.6.4 requests-2.27.1 translators-5.0.2\n",
      "\u001b[33mWARNING: You are using pip version 21.3.1; however, version 22.0.4 is available.\n",
      "You should consider upgrading via the '/Users/theojolliffe/spacyve/bin/python -m pip install --upgrade pip' command.\u001b[0m\n"
     ]
    }
   ],
   "source": [
    "!pip install translators --upgrade\n"
   ]
  },
  {
   "cell_type": "code",
   "execution_count": 33,
   "metadata": {},
   "outputs": [],
   "source": [
    "import pandas as pd"
   ]
  },
  {
   "cell_type": "code",
   "execution_count": 59,
   "metadata": {},
   "outputs": [
    {
     "data": {
      "text/html": [
       "<div>\n",
       "<style scoped>\n",
       "    .dataframe tbody tr th:only-of-type {\n",
       "        vertical-align: middle;\n",
       "    }\n",
       "\n",
       "    .dataframe tbody tr th {\n",
       "        vertical-align: top;\n",
       "    }\n",
       "\n",
       "    .dataframe thead th {\n",
       "        text-align: right;\n",
       "    }\n",
       "</style>\n",
       "<table border=\"1\" class=\"dataframe\">\n",
       "  <thead>\n",
       "    <tr style=\"text-align: right;\">\n",
       "      <th></th>\n",
       "      <th>translation</th>\n",
       "    </tr>\n",
       "  </thead>\n",
       "  <tbody>\n",
       "    <tr>\n",
       "      <th>0</th>\n",
       "      <td>{'cy': 'Iaith fyw: ', 'en': 'A living language:'}</td>\n",
       "    </tr>\n",
       "    <tr>\n",
       "      <th>1</th>\n",
       "      <td>{'cy': 'iaith byw', 'en': 'a language for livi...</td>\n",
       "    </tr>\n",
       "    <tr>\n",
       "      <th>2</th>\n",
       "      <td>{'cy': 'Strategaeth y Gym raeg 2012-17', 'en':...</td>\n",
       "    </tr>\n",
       "    <tr>\n",
       "      <th>3</th>\n",
       "      <td>{'cy': 'Iaith fyw: ', 'en': 'A living language...</td>\n",
       "    </tr>\n",
       "    <tr>\n",
       "      <th>4</th>\n",
       "      <td>{'cy': 'iaith byw', 'en': 'a language for livi...</td>\n",
       "    </tr>\n",
       "    <tr>\n",
       "      <th>...</th>\n",
       "      <td>...</td>\n",
       "    </tr>\n",
       "    <tr>\n",
       "      <th>2189</th>\n",
       "      <td>{'cy': 'Datblygu strategaeth farchnata gydgysy...</td>\n",
       "    </tr>\n",
       "    <tr>\n",
       "      <th>2190</th>\n",
       "      <td>{'cy': 'Iaith fyw: ', 'en': 'A living language...</td>\n",
       "    </tr>\n",
       "    <tr>\n",
       "      <th>2191</th>\n",
       "      <td>{'cy': 'iaith byw53', 'en': 'a language for li...</td>\n",
       "    </tr>\n",
       "    <tr>\n",
       "      <th>2192</th>\n",
       "      <td>{'cy': '54Iaith fyw: ', 'en': '54A living lang...</td>\n",
       "    </tr>\n",
       "    <tr>\n",
       "      <th>2193</th>\n",
       "      <td>{'cy': 'iaith byw', 'en': 'a language for livi...</td>\n",
       "    </tr>\n",
       "  </tbody>\n",
       "</table>\n",
       "<p>2194 rows × 1 columns</p>\n",
       "</div>"
      ],
      "text/plain": [
       "                                            translation\n",
       "0     {'cy': 'Iaith fyw: ', 'en': 'A living language:'}\n",
       "1     {'cy': 'iaith byw', 'en': 'a language for livi...\n",
       "2     {'cy': 'Strategaeth y Gym raeg 2012-17', 'en':...\n",
       "3     {'cy': 'Iaith fyw: ', 'en': 'A living language...\n",
       "4     {'cy': 'iaith byw', 'en': 'a language for livi...\n",
       "...                                                 ...\n",
       "2189  {'cy': 'Datblygu strategaeth farchnata gydgysy...\n",
       "2190  {'cy': 'Iaith fyw: ', 'en': 'A living language...\n",
       "2191  {'cy': 'iaith byw53', 'en': 'a language for li...\n",
       "2192  {'cy': '54Iaith fyw: ', 'en': '54A living lang...\n",
       "2193  {'cy': 'iaith byw', 'en': 'a language for livi...\n",
       "\n",
       "[2194 rows x 1 columns]"
      ]
     },
     "execution_count": 59,
     "metadata": {},
     "output_type": "execute_result"
    }
   ],
   "source": [
    "df = pd.DataFrame({'translation': trans}, columns=['translation'])\n",
    "df"
   ]
  },
  {
   "cell_type": "code",
   "execution_count": 60,
   "metadata": {},
   "outputs": [],
   "source": [
    "df.to_csv('welsh-trans-mem.csv', index=False)  "
   ]
  },
  {
   "cell_type": "code",
   "execution_count": 49,
   "metadata": {},
   "outputs": [],
   "source": [
    "!mkdir welsh-translation"
   ]
  },
  {
   "cell_type": "code",
   "execution_count": 50,
   "metadata": {},
   "outputs": [
    {
     "name": "stdout",
     "output_type": "stream",
     "text": [
      "/Users/theojolliffe/Documents/welsh-translation\n"
     ]
    }
   ],
   "source": [
    "%cd welsh-translation"
   ]
  },
  {
   "cell_type": "code",
   "execution_count": 9,
   "metadata": {},
   "outputs": [
    {
     "name": "stderr",
     "output_type": "stream",
     "text": [
      "Using United Kingdom server backend.\n"
     ]
    }
   ],
   "source": [
    "import translators as ts\n"
   ]
  },
  {
   "cell_type": "code",
   "execution_count": 10,
   "metadata": {},
   "outputs": [
    {
     "data": {
      "text/plain": [
       "\"Mae'r llwynog brown cyflym yn neidio dros y ci diog.\""
      ]
     },
     "execution_count": 10,
     "metadata": {},
     "output_type": "execute_result"
    }
   ],
   "source": [
    "phrase = 'The quick brown fox jumps over the lazy dog.'\n",
    "ts.google(phrase, from_language='en', to_language='cy')"
   ]
  },
  {
   "cell_type": "code",
   "execution_count": 11,
   "metadata": {},
   "outputs": [
    {
     "data": {
      "text/plain": [
       "'Cyflym brown llwynog neidio dros y diog ci.'"
      ]
     },
     "execution_count": 11,
     "metadata": {},
     "output_type": "execute_result"
    }
   ],
   "source": [
    "ts.yandex(phrase, from_language='en', to_language='cy')"
   ]
  },
  {
   "cell_type": "code",
   "execution_count": 18,
   "metadata": {},
   "outputs": [
    {
     "data": {
      "text/plain": [
       "\"Mae'r llwynog brown cyflym yn neidio dros y ci diog.\""
      ]
     },
     "execution_count": 18,
     "metadata": {},
     "output_type": "execute_result"
    }
   ],
   "source": [
    "ts.sogou(phrase, from_language='en', to_language='cy')"
   ]
  },
  {
   "cell_type": "code",
   "execution_count": 19,
   "metadata": {},
   "outputs": [
    {
     "data": {
      "text/plain": [
       "\"Mae'r llwynog brown cyflym yn neidio dros y ci diog.\""
      ]
     },
     "execution_count": 19,
     "metadata": {},
     "output_type": "execute_result"
    }
   ],
   "source": [
    "ts.bing(phrase, from_language='en', to_language='cy')"
   ]
  },
  {
   "cell_type": "code",
   "execution_count": 21,
   "metadata": {},
   "outputs": [
    {
     "data": {
      "text/plain": [
       "'Quick brown fox jump over the dog lazy.'"
      ]
     },
     "execution_count": 21,
     "metadata": {},
     "output_type": "execute_result"
    }
   ],
   "source": [
    "phrase = \"Cyflym brown llwynog neidio dros y diog ci.\"\n",
    "ts.google(phrase)"
   ]
  },
  {
   "cell_type": "code",
   "execution_count": 22,
   "metadata": {},
   "outputs": [
    {
     "data": {
      "text/plain": [
       "'The fast brown fox jumps over the lazy dog.'"
      ]
     },
     "execution_count": 22,
     "metadata": {},
     "output_type": "execute_result"
    }
   ],
   "source": [
    "phrase = \"Mae'r llwynog brown cyflym yn neidio dros y ci diog.\"\n",
    "ts.google(phrase)"
   ]
  },
  {
   "cell_type": "code",
   "execution_count": null,
   "metadata": {},
   "outputs": [],
   "source": []
  }
 ],
 "metadata": {
  "kernelspec": {
   "display_name": "spacyve",
   "language": "python",
   "name": "spacyve"
  },
  "language_info": {
   "codemirror_mode": {
    "name": "ipython",
    "version": 3
   },
   "file_extension": ".py",
   "mimetype": "text/x-python",
   "name": "python",
   "nbconvert_exporter": "python",
   "pygments_lexer": "ipython3",
   "version": "3.8.8"
  },
  "orig_nbformat": 4
 },
 "nbformat": 4,
 "nbformat_minor": 2
}
